{
 "cells": [
  {
   "cell_type": "markdown",
   "metadata": {
    "id": "rHLcriKWLRe4"
   },
   "source": [
    "# Lab 1"
   ]
  },
  {
   "cell_type": "markdown",
   "metadata": {},
   "source": [
    "### <span style=\"color:chocolate\"> Submission requirements </span>\n",
    "\n",
    "Additional points may be deducted if these requirements are not met:\n",
    "    \n",
    "* Comment your code\n",
    "* Each graph should have a title, labels for each axis, and (if needed) a legend. Each graph should be understandable on its own\n",
    "* Be sure your submitted notebook includes the output of your run (Hint: go to Kernel -> Restart Kernel and Run All Cells...)\n",
    "* Try and minimize the use of the global namespace (meaning, keep things inside functions)\n",
    "* Upload your .ipynb file to Gradescope when done\n",
    "---"
   ]
  },
  {
   "cell_type": "code",
   "execution_count": 9,
   "metadata": {
    "id": "7X58hOMTUH-w"
   },
   "outputs": [],
   "source": [
    "# Import the libraries we'll use below.\n",
    "import numpy as np\n",
    "import matplotlib.pyplot as plt"
   ]
  },
  {
   "cell_type": "markdown",
   "metadata": {
    "id": "0nNOD-Z7SzAq"
   },
   "source": [
    "## Data as matrices\n",
    "Data usually comes in the form of matrices. The Python Numpy library makes it easy to manipulate matrices efficiently. See the [Numpy Tutorial](https://docs.scipy.org/doc/numpy/user/quickstart.html) for details."
   ]
  },
  {
   "cell_type": "code",
   "execution_count": 25,
   "metadata": {
    "id": "KWlmuAMwTZ3P"
   },
   "outputs": [
    {
     "name": "stdout",
     "output_type": "stream",
     "text": [
      "Matrix A\n",
      "[1 2 3]\n",
      "**************************************************\n",
      "Matrix B\n",
      "[[ 1  2  3  4]\n",
      " [ 5  6  7  8]\n",
      " [ 9 10 11 12]]\n",
      "**************************************************\n",
      "Matrix C\n",
      "[[1. 1. 1.]\n",
      " [1. 1. 1.]]\n",
      "**************************************************\n",
      "Matrix D\n",
      "[[1. 0. 0.]\n",
      " [0. 1. 0.]\n",
      " [0. 0. 1.]]\n",
      "**************************************************\n"
     ]
    }
   ],
   "source": [
    "# Print these to make sure you understand what is being generated.\n",
    "A = np.array([1, 2, 3])\n",
    "print('Matrix A')\n",
    "print(A)\n",
    "print(\"*\"*50)\n",
    "\n",
    "B = np.arange(1, 13).reshape(3, 4)\n",
    "print('Matrix B')\n",
    "print(B)\n",
    "print(\"*\"*50)\n",
    "\n",
    "C = np.ones((2, 3))\n",
    "print('Matrix C')\n",
    "print(C)\n",
    "print(\"*\"*50\n",
    "     )\n",
    "D = np.eye(3)\n",
    "print('Matrix D')\n",
    "print(D)\n",
    "print(\"*\"*50)\n",
    "\n",
    "# Matrix multiplication is possible if the number of columns in the first matrix (Matrix A)\n",
    "# is equal to the number of rows in the second matrix (Matrix B)"
   ]
  },
  {
   "cell_type": "markdown",
   "metadata": {
    "id": "T4wvvzKoUIAN"
   },
   "source": [
    "---\n",
    "### Exercise 1: Matrix manipulation (8 points)"
   ]
  },
  {
   "cell_type": "markdown",
   "metadata": {},
   "source": [
    "Perform the following computations using numpy functions and <span style=\"color:chocolate\">print</span> the results. Note that the `*` operator implies matrix multiplication  (typically denoted using dot notation in linear algebra) -- make sure the dimensions align!\n",
    "1. 2A + 1\n",
    "2. Sum the rows of B (Hint: pass axis=1 to the cooresponding sum function)\n",
    "3. Sum the columns of B (Hint: pass axis=0 to the cooresponding sum function)\n",
    "4. Number of elements of B greater than 5\n",
    "5. C + C\n",
    "6. A * B\n",
    "7. (B * B) - D"
   ]
  },
  {
   "cell_type": "code",
   "execution_count": 38,
   "metadata": {
    "id": "HJtwrjdO6TbS"
   },
   "outputs": [
    {
     "name": "stdout",
     "output_type": "stream",
     "text": [
      "**************************************************\n",
      "Matrix A\n",
      "[1 2 3]\n",
      "**************************************************\n",
      "The result of 2A + 1 is:\n",
      " [3 5 7]\n",
      "**************************************************\n"
     ]
    }
   ],
   "source": [
    "# 1. 2A + 1\n",
    "\n",
    "print(\"*\"*50)\n",
    "print('Matrix A')\n",
    "print(A)\n",
    "print(\"*\"*50)\n",
    "result = 2 * A + 1\n",
    "print('The result of 2A + 1 is:\\n', result)\n",
    "print(\"*\"*50)"
   ]
  },
  {
   "cell_type": "markdown",
   "metadata": {},
   "source": [
    "---"
   ]
  },
  {
   "cell_type": "code",
   "execution_count": 42,
   "metadata": {},
   "outputs": [
    {
     "name": "stdout",
     "output_type": "stream",
     "text": [
      "**************************************************\n",
      "Matrix B\n",
      "[[ 1  2  3  4]\n",
      " [ 5  6  7  8]\n",
      " [ 9 10 11 12]]\n",
      "**************************************************\n",
      "The result of B.sum(axis=1) is:\n",
      " [10 26 42]\n",
      "**************************************************\n"
     ]
    }
   ],
   "source": [
    "# 2. Sum the rows of B \n",
    "# Sum the rows of B (Hint: pass axis=1 to the cooresponding sum function)\n",
    "\n",
    "print(\"*\"*50)\n",
    "print('Matrix B')\n",
    "print(B)\n",
    "print(\"*\"*50)\n",
    "result = B.sum(axis=1)\n",
    "print('The result of B.sum(axis=1) is:\\n', result)\n",
    "print(\"*\"*50)"
   ]
  },
  {
   "cell_type": "code",
   "execution_count": 44,
   "metadata": {},
   "outputs": [
    {
     "name": "stdout",
     "output_type": "stream",
     "text": [
      "**************************************************\n",
      "Matrix B\n",
      "[[ 1  2  3  4]\n",
      " [ 5  6  7  8]\n",
      " [ 9 10 11 12]]\n",
      "**************************************************\n",
      "The result of B.sum(axis=0) is:\n",
      " [15 18 21 24]\n",
      "**************************************************\n"
     ]
    }
   ],
   "source": [
    "# 3. Sum the columns of B\n",
    "# (Hint: pass axis=0 to the cooresponding sum function)\n",
    "\n",
    "print(\"*\"*50)\n",
    "print('Matrix B')\n",
    "print(B)\n",
    "print(\"*\"*50)\n",
    "result = B.sum(axis=0)\n",
    "print('The result of B.sum(axis=0) is:\\n', result)\n",
    "print(\"*\"*50)"
   ]
  },
  {
   "cell_type": "code",
   "execution_count": 46,
   "metadata": {},
   "outputs": [
    {
     "name": "stdout",
     "output_type": "stream",
     "text": [
      "**************************************************\n",
      "Matrix B\n",
      "[[ 1  2  3  4]\n",
      " [ 5  6  7  8]\n",
      " [ 9 10 11 12]]\n",
      "**************************************************\n",
      "The result of (B > 5).sum() is:\n",
      " 7\n",
      "**************************************************\n"
     ]
    }
   ],
   "source": [
    "# 4. Number of elements of B greater than 5\n",
    "\n",
    "print(\"*\"*50)\n",
    "print('Matrix B')\n",
    "print(B)\n",
    "print(\"*\"*50)\n",
    "result = (B > 5).sum()\n",
    "print('The result of (B > 5).sum() is:\\n', result)\n",
    "print(\"*\"*50)"
   ]
  },
  {
   "cell_type": "code",
   "execution_count": 49,
   "metadata": {},
   "outputs": [
    {
     "name": "stdout",
     "output_type": "stream",
     "text": [
      "**************************************************\n",
      "Matrix C\n",
      "[[1. 1. 1.]\n",
      " [1. 1. 1.]]\n",
      "**************************************************\n",
      "The result of C + C is:\n",
      " [[2. 2. 2.]\n",
      " [2. 2. 2.]]\n",
      "**************************************************\n"
     ]
    }
   ],
   "source": [
    "# 5. C + C\n",
    "\n",
    "print(\"*\"*50)\n",
    "print('Matrix C')\n",
    "print(C)\n",
    "print(\"*\"*50)\n",
    "result = C + C\n",
    "print('The result of C + C is:\\n', result)\n",
    "print(\"*\"*50)"
   ]
  },
  {
   "cell_type": "code",
   "execution_count": 57,
   "metadata": {},
   "outputs": [
    {
     "name": "stdout",
     "output_type": "stream",
     "text": [
      "**************************************************\n",
      "Matrix A\n",
      "[[1 2 3]\n",
      " [4 5 6]]\n",
      "**************************************************\n",
      "Matrix B\n",
      "[[ 7  8]\n",
      " [ 9 10]\n",
      " [11 12]]\n",
      "**************************************************\n",
      "This will fail because we are tying to multiple two objects with different shapes,A is a vector whereas B is a matrix\n",
      "**************************************************\n"
     ]
    }
   ],
   "source": [
    "# 6. A * B\n",
    "\n",
    "print(\"*\"*50)\n",
    "print('Matrix A')\n",
    "print(A)\n",
    "print(\"*\"*50)\n",
    "print('Matrix B')\n",
    "print(B)\n",
    "print(\"*\"*50)\n",
    "# result = A + B\n",
    "# print('The result of A * B is:\\n', result)\n",
    "print('This will fail because we are tying to multiple two objects with different shapes,\\\n",
    "A is a vector whereas B is a matrix')\n",
    "print(\"*\"*50)\n",
    "\n",
    "# For matrix multiplication to be possible, the number of columns in the first matrix must \n",
    "# be equal to the number of rows in the second matrix. This is the case here, \n",
    "# because A has 3 columns and B has 3 rows. The resulting matrix will have a number of \n",
    "# rows equal to the number of rows in the first matrix and a number of columns equal to \n",
    "# the number of columns in the second matrix. Hence, the resulting matrix will have \n",
    "# shape (2, 2).\n",
    "\n",
    "# # Define two 2D arrays (matrices)\n",
    "# A = np.array([[1, 2, 3], [4, 5, 6]])\n",
    "# print (A)\n",
    "# print(\"*\"*50)\n",
    "# B = np.array([[7, 8], [9, 10], [11, 12]])\n",
    "# print(B)\n",
    "# print(\"*\"*50)\n",
    "\n",
    "# # Perform matrix multiplication\n",
    "# # result1 = A @ B\n",
    "# # Or equivalently\n",
    "# result1 = np.dot(A, B)\n",
    "\n",
    "# print(result1)\n",
    "# print(\"*\"*50)\n",
    "\n",
    "# # Perform matrix multiplication\n",
    "# result2 = A * B\n",
    "\n",
    "\n",
    "# print(result2)\n",
    "# print(\"*\"*50)\n"
   ]
  },
  {
   "cell_type": "code",
   "execution_count": 61,
   "metadata": {},
   "outputs": [
    {
     "name": "stdout",
     "output_type": "stream",
     "text": [
      "**************************************************\n",
      "Matrix B\n",
      "[[ 7  8  9]\n",
      " [10 11 12]]\n",
      "**************************************************\n",
      "Matrix D\n",
      "[[1. 0. 0.]\n",
      " [0. 1. 0.]\n",
      " [0. 0. 1.]]\n",
      "**************************************************\n",
      "Since B & D are of different shapes, this result will fail as we are trying to do element level multiplication and not matrix multiplication per se [[ 58  64]\n",
      " [139 154]]\n",
      "**************************************************\n"
     ]
    }
   ],
   "source": [
    "# 7. (B * B) - D\n",
    "\n",
    "print(\"*\"*50)\n",
    "print('Matrix B')\n",
    "print(B)\n",
    "print(\"*\"*50)\n",
    "print('Matrix D')\n",
    "print(D)\n",
    "print(\"*\"*50)\n",
    "# result = (B * B) - D\n",
    "print('Since B & D are of different shapes, this result will fail as we are trying to \\\n",
    "do element level multiplication and not matrix multiplication per se', result)\n",
    "print(\"*\"*50)\n",
    "\n",
    "# The difference between @ and * in Numpy mainly relates to how these operators handle \n",
    "# multiplication for arrays (including vectors and matrices).\n",
    "\n",
    "# The @ operator, or equivalently np.dot(), performs matrix multiplication when used \n",
    "# on 2D arrays. In other words, it treats the arrays as matrices and performs the dot \n",
    "# product operation. In matrix multiplication, the element in the i-th row and j-th column \n",
    "# of the resulting matrix is computed as the dot product of the i-th row of the first \n",
    "# matrix with the j-th column of the second matrix. This operation requires that the \n",
    "# number of columns in the first matrix equals the number of rows in the second matrix.\n",
    "\n",
    "# The * operator, on the other hand, performs element-wise multiplication. This operation \n",
    "#multiplies each element in the first array by the corresponding element in the second array. \n",
    "# Therefore, it requires that the two arrays have the same shape."
   ]
  },
  {
   "cell_type": "markdown",
   "metadata": {},
   "source": [
    "---"
   ]
  },
  {
   "cell_type": "markdown",
   "metadata": {
    "id": "xbCRG2-uUKCT"
   },
   "source": [
    "## Data for Supervised Learning\n",
    "Supervised learning is all about learning to make predictions: given an input $x$ (e.g. home square footage), can we produce an output $\\hat{y}$ (e.g. estimated value) as close to the actual observed output $y$ (e.g. sale price) as possible. Note that the \"hat\" above $y$ is used to denote an estimated or predicted value.\n",
    "\n",
    "Let's start by generating some artificial data. We'll create a vector of inputs, $X$, and a corresponding vector of target outputs $Y$. In general, we'll refer to invidual examples with a lowercase ($x$), and a vector or matrix containing multiple examples with a capital ($X$)."
   ]
  },
  {
   "cell_type": "code",
   "execution_count": 64,
   "metadata": {
    "id": "Ulmn_bFdU87t"
   },
   "outputs": [],
   "source": [
    "def create_1d_data(num_examples=10, w=2, b=1, random_scale=1):\n",
    "  \"\"\"Create X, Y data with a linear relationship with added noise.\n",
    "\n",
    "  Args:\n",
    "    num_examples: number of examples to generate\n",
    "    w: desired slope\n",
    "    b: desired intercept\n",
    "    random_scale: add uniform noise between -random_scale and +random_scale\n",
    "\n",
    "  Returns:\n",
    "    X and Y with shape (num_examples)\n",
    "  \"\"\"\n",
    "  X = np.arange(num_examples)\n",
    "  np.random.seed(4)  # consistent random number generation\n",
    "  deltas = np.random.uniform(low=-random_scale, high=random_scale, size=X.shape)\n",
    "  Y = b + deltas + w * X\n",
    "  return X, Y"
   ]
  },
  {
   "cell_type": "code",
   "execution_count": 65,
   "metadata": {
    "id": "6qJg0IiYVJ8U"
   },
   "outputs": [
    {
     "data": {
      "image/png": "[encoded data removed]",
      "text/plain": [
       "<Figure size 640x480 with 1 Axes>"
      ]
     },
     "metadata": {},
     "output_type": "display_data"
    }
   ],
   "source": [
    "# Create some artificial data using create_1d_data.\n",
    "X, Y = create_1d_data()\n",
    "plt.scatter(X, Y)\n",
    "plt.show()"
   ]
  },
  {
   "cell_type": "markdown",
   "metadata": {
    "id": "W6coKbXSpXOz"
   },
   "source": [
    "---\n",
    "### Exercise 2: Models for Data (8 points)"
   ]
  },
  {
   "cell_type": "markdown",
   "metadata": {},
   "source": [
    "A model is a function that takes an input $x$ and produces a prediction $\\hat{y}$.\n",
    "\n",
    "Let's consider two possible models for this data:\n",
    "1. $M_1(x) = x+5$ \n",
    "2. $M_2(x) = 2x+1$\n",
    "\n",
    "Compute the predictions of models $M_1$ and $M_2$ for the values in $X$. These predictions should be vectors of the same shape as $Y$. Then plot the prediction lines of these two models overlayed on the \"observed\" data $(X, Y)$. Use [plt.plot()](https://matplotlib.org/api/_as_gen/matplotlib.pyplot.plot.html) to draw the lines. Note: you will generate only one plot. Make sure to include axes, titles and legend. "
   ]
  },
  {
   "cell_type": "code",
   "execution_count": 69,
   "metadata": {},
   "outputs": [
    {
     "name": "stdout",
     "output_type": "stream",
     "text": [
      "***************************************************************************\n",
      "vector X\n",
      "[0 1 2 3 4 5 6 7 8 9]\n",
      "***************************************************************************\n",
      "Vector Y\n",
      "[ 1.93405968  3.0944645   5.94536872  7.42963199  9.39545765 10.43217899\n",
      " 13.95254891 14.01246051 16.50596472 18.86958306]\n",
      "***************************************************************************\n"
     ]
    }
   ],
   "source": [
    "print(\"*\"*75)\n",
    "print('vector X')\n",
    "print(X)\n",
    "print(\"*\"*75)\n",
    "print('Vector Y')\n",
    "print(Y)\n",
    "print(\"*\"*75)"
   ]
  },
  {
   "cell_type": "code",
   "execution_count": 100,
   "metadata": {
    "id": "AHIY5kNXUIAP"
   },
   "outputs": [
    {
     "name": "stdout",
     "output_type": "stream",
     "text": [
      "***************************************************************************\n",
      "Static values for X\n",
      "[0 1 2 3 4 5 6 7 8 9]\n",
      "***************************************************************************\n",
      "Training/Observed Values for Y\n",
      "[ 1.93405968  3.0944645   5.94536872  7.42963199  9.39545765 10.43217899\n",
      " 13.95254891 14.01246051 16.50596472 18.86958306]\n",
      "***************************************************************************\n",
      " Prediction values of Y from Model 1\n",
      "[ 6  7  8  9 10 11 12 13 14 15]\n",
      "***************************************************************************\n",
      " Prediction values of Y from Model 2\n",
      "[ 1  3  5  7  9 11 13 15 17 19]\n",
      "***************************************************************************\n"
     ]
    },
    {
     "data": {
      "image/png": "[encoded data removed]",
      "text/plain": [
       "<Figure size 1000x600 with 1 Axes>"
      ]
     },
     "metadata": {},
     "output_type": "display_data"
    }
   ],
   "source": [
    "import seaborn as sns\n",
    "# Change the figure size\n",
    "plt.figure(figsize=(10, 6))\n",
    "\n",
    "# 1. $M_1(x) = x+5$ \n",
    "\n",
    "print(\"*\"*75)\n",
    "print('Static values for X')\n",
    "print(X)\n",
    "print(\"*\"*75)\n",
    "print('Training/Observed Values for Y')\n",
    "print(Y)\n",
    "print(\"*\"*75)\n",
    "\n",
    "def model1(x): return x + 6\n",
    "\n",
    "def model2(x): return 2*x + 1\n",
    "\n",
    "Y_model1 = model1(X)\n",
    "# print(\"*\"*75)\n",
    "print(' Prediction values of Y from Model 1')\n",
    "print(Y_model1)\n",
    "\n",
    "Y_model2 = model2(X)\n",
    "print(\"*\"*75)\n",
    "print(' Prediction values of Y from Model 2')\n",
    "print(Y_model2)\n",
    "print(\"*\"*75)\n",
    "\n",
    "\n",
    "plt.scatter(X, Y, label=\"Observed data\", color='black', s=50)\n",
    "# plt.show()\n",
    "\n",
    "plt.plot(X, Y_model1, label = \"Model 1\", color='blue', linewidth=2, linestyle='dashed')\n",
    "plt.plot(X, Y_model2, label = \"Model 2\", color='red', linewidth=2, linestyle='dotted')\n",
    "\n",
    "plt.title(\"Reviewing outputs from Models 1 and 2 for Y\", fontsize=16)\n",
    "plt.xlabel(\"X Values\",  fontsize=14)\n",
    "plt.ylabel(\"Predicted Y Values\",  fontsize=14)\n",
    "plt.legend( fontsize=14)\n",
    "plt.show()"
   ]
  },
  {
   "cell_type": "markdown",
   "metadata": {},
   "source": [
    "---"
   ]
  },
  {
   "cell_type": "markdown",
   "metadata": {
    "id": "NH-0soZiWx9x"
   },
   "source": [
    "## Evaluation Metrics\n",
    "\n",
    "How good are our models? Intuitively, the better the model, the more closely it fits the data we have. That is, for each $x$, we'll compare $y$, the true value, with $\\hat{y}$, the predicted value. This comparison is often called the *loss* or the *error*. One common such comparison is *squared error*: $(y-\\hat{y})^2$. Averaging over all our data points, we get the *mean squared error*:\n",
    "\n",
    "\\begin{equation}\n",
    "\\textit{MSE} = \\frac{1}{n} \\sum_{y_i \\in Y}(y_i - \\hat{y}_i)^2\n",
    "\\end{equation}"
   ]
  },
  {
   "cell_type": "markdown",
   "metadata": {
    "id": "_AyY2DpxYLI0"
   },
   "source": [
    "---\n",
    "### Exercise 3: Computing MSE (8 points)"
   ]
  },
  {
   "cell_type": "markdown",
   "metadata": {},
   "source": [
    "Write a function for computing the MSE metric and use it to compute the MSE for the two models above, $M_1$ and $M_2$."
   ]
  },
  {
   "cell_type": "code",
   "execution_count": null,
   "metadata": {
    "id": "uCeAfI5mW9sg"
   },
   "outputs": [],
   "source": [
    "def MSE(true_values, predicted_values):\n",
    "  \"\"\"Return the MSE between true_values and predicted values.\"\"\"\n",
    "    # YOUR CODE HERE"
   ]
  },
  {
   "cell_type": "code",
   "execution_count": null,
   "metadata": {
    "id": "uF-x9DI2ZOKq"
   },
   "outputs": [],
   "source": [
    "print ('MSE for M1:', MSE(Y, M1))\n",
    "print ('MSE for M2:', MSE(Y, M2))"
   ]
  },
  {
   "cell_type": "markdown",
   "metadata": {},
   "source": [
    "---"
   ]
  },
  {
   "cell_type": "markdown",
   "metadata": {
    "id": "eDiy3OZwZlwj"
   },
   "source": [
    "## Generalization\n",
    "\n",
    "Our data $(X, Y)$ represents just a sample of all possible input-output pairs we might care about. A model will be useful to the extent we can apply it to new inputs. Consider the more complex model below, which appears to produce a much smaller mean squared error."
   ]
  },
  {
   "cell_type": "code",
   "execution_count": null,
   "metadata": {
    "id": "ns1siZ9DZvSY"
   },
   "outputs": [],
   "source": [
    "# Fit an 8-th degree polynomial to (X, Y). See np.polyfit for details.\n",
    "polynomial_model_coefficients = np.polyfit(X, Y, deg=8)\n",
    "polynomial_model = np.poly1d(polynomial_model_coefficients)\n",
    "M3 = polynomial_model(X)\n",
    "fig = plt.scatter(X, Y)\n",
    "plt.plot(X, M3, '-k')\n",
    "print ('MSE for M3:', MSE(Y, M3))"
   ]
  },
  {
   "cell_type": "markdown",
   "metadata": {
    "id": "M2m9YmLMZ1EV"
   },
   "source": [
    "---\n",
    "### Exercise 4: Generalization (8 points)"
   ]
  },
  {
   "cell_type": "markdown",
   "metadata": {},
   "source": [
    "Explain whether you expect $M_3$ to be better than $M_2$ at predicting the labels for new unseen inputs."
   ]
  },
  {
   "cell_type": "markdown",
   "metadata": {
    "id": "h0Zpx79_aQEC"
   },
   "source": [
    "*Writen answer:*"
   ]
  },
  {
   "cell_type": "markdown",
   "metadata": {
    "id": "j9EH9D7Faf9n"
   },
   "source": [
    "---"
   ]
  },
  {
   "cell_type": "markdown",
   "metadata": {
    "id": "6hIdZHngdrET"
   },
   "source": [
    "## Review\n",
    "\n",
    "* In **Supervised Machine Learning**, we must start with data in the form $(X,Y)$ where $X$ are the inputs and $Y$ are the output labels.\n",
    "* A **model** is a function that maps an input $x$ to an output $y$. The model's output is referred to as a **prediction**, denoted by $\\hat{y}$.\n",
    "* We **evaluate** predictions by comparing them to the true labels. This measurement is called a **loss** or **error**. For real-valued data, **mean squared error** is a common metric.\n",
    "* A model is only as good as its ability to **generalize** to new examples."
   ]
  }
 ],
 "metadata": {
  "accelerator": "GPU",
  "colab": {
   "collapsed_sections": [
    "copyright",
    "xxOhpvdW6TbX",
    "exercise-1-key-1",
    "43ZTSJEc526U",
    "exercise-5-key-1",
    "ubHispCAA_5u",
    "exercise-6-key-1",
    "5p1IvWjfEjqm",
    "exercise-9-key-1"
   ],
   "name": "01 Introduction.ipynb",
   "private_outputs": true,
   "provenance": []
  },
  "kernelspec": {
   "display_name": "Python 3",
   "language": "python",
   "name": "python3"
  },
  "language_info": {
   "codemirror_mode": {
    "name": "ipython",
    "version": 3
   },
   "file_extension": ".py",
   "mimetype": "text/x-python",
   "name": "python",
   "nbconvert_exporter": "python",
   "pygments_lexer": "ipython3",
   "version": "3.7.10"
  }
 },
 "nbformat": 4,
 "nbformat_minor": 4
}
